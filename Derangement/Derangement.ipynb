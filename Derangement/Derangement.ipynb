{
 "cells": [
  {
   "cell_type": "markdown",
   "metadata": {},
   "source": [
    "# The Hat-Check Problem"
   ]
  },
  {
   "cell_type": "code",
   "execution_count": 4,
   "metadata": {},
   "outputs": [],
   "source": [
    "import random"
   ]
  },
  {
   "cell_type": "code",
   "execution_count": 14,
   "metadata": {},
   "outputs": [],
   "source": [
    "# define the number of hats\n",
    "h=100\n",
    "# function returns the number of times a hat matches it's original owner\n",
    "\n",
    "def derangement():\n",
    "    '''This function returns the number of times a hat matches its original owner out of arg1 hats.'''\n",
    "    order = [i for i in range(h)]\n",
    "    new_order = [i for i in range(h)]\n",
    "    random.shuffle(new_order)\n",
    "    comparison = [o-s for o,s in zip(order,new_order)]\n",
    "    return comparison.count(0)"
   ]
  },
  {
   "cell_type": "code",
   "execution_count": 8,
   "metadata": {},
   "outputs": [
    {
     "data": {
      "text/plain": [
       "'This function returns the number of times a hat matches its original owner out of arg1 hats.'"
      ]
     },
     "execution_count": 8,
     "metadata": {},
     "output_type": "execute_result"
    }
   ],
   "source": [
    "derangement.__doc__"
   ]
  },
  {
   "cell_type": "code",
   "execution_count": 19,
   "metadata": {},
   "outputs": [
    {
     "name": "stdout",
     "output_type": "stream",
     "text": [
      "Out of 1000 randomly returned hats, the probability that no one receives their hat back is approximately 0.3662.\n"
     ]
    }
   ],
   "source": [
    "n = 5000\n",
    "results = [derangement() for i in range(n)]\n",
    "\n",
    "prob = results.count(0)/n\n",
    "print(f'Out of {h} randomly returned hats, the probability that no one receives their hat back is approximately {prob}.')"
   ]
  },
  {
   "cell_type": "code",
   "execution_count": null,
   "metadata": {},
   "outputs": [],
   "source": []
  },
  {
   "cell_type": "code",
   "execution_count": null,
   "metadata": {},
   "outputs": [],
   "source": []
  }
 ],
 "metadata": {
  "kernelspec": {
   "display_name": "Python 3",
   "language": "python",
   "name": "python3"
  },
  "language_info": {
   "codemirror_mode": {
    "name": "ipython",
    "version": 3
   },
   "file_extension": ".py",
   "mimetype": "text/x-python",
   "name": "python",
   "nbconvert_exporter": "python",
   "pygments_lexer": "ipython3",
   "version": "3.7.3"
  }
 },
 "nbformat": 4,
 "nbformat_minor": 4
}
