{
 "cells": [
  {
   "cell_type": "markdown",
   "metadata": {},
   "source": [
    "# Forgetful Traveller\n",
    "\n",
    "[P. Winkler] One hundred people line up to board an airplane. Each has a boarding pass with an assigned seat. However, the first person to board has lost his boarding pass and takes a random seat. After that each person takes the assigned seat if it is unoccupied, or one of the other unoccupied seats at random otherwise. What is the probability that the last person to board gets to sit in his assigned seat?"
   ]
  },
  {
   "cell_type": "code",
   "execution_count": 32,
   "metadata": {},
   "outputs": [],
   "source": [
    "import random"
   ]
  },
  {
   "cell_type": "code",
   "execution_count": 77,
   "metadata": {},
   "outputs": [],
   "source": [
    "# number of passengers\n",
    "t = 200"
   ]
  },
  {
   "cell_type": "code",
   "execution_count": 76,
   "metadata": {},
   "outputs": [],
   "source": [
    "def boarding_order():\n",
    "    list100 = [i for i in range(1,t+1)]\n",
    "    random.shuffle(list100)\n",
    "    seat_fill_order = [list100[0]]\n",
    "    list100.remove(seat_fill_order[0])\n",
    "    \n",
    "    for i in range(2,t+1,1):\n",
    "        \n",
    "        if i not in seat_fill_order:\n",
    "            seat_fill_order.append(i)\n",
    "            list100.remove(i)\n",
    "        else:\n",
    "            seat_fill_order.append(list100[0])\n",
    "            list100.remove(seat_fill_order[-1])\n",
    "      \n",
    "    return seat_fill_order"
   ]
  },
  {
   "cell_type": "code",
   "execution_count": 78,
   "metadata": {},
   "outputs": [
    {
     "name": "stdout",
     "output_type": "stream",
     "text": [
      "The probability of the 200th passenger getting his assigned seat is 0.4937.\n"
     ]
    }
   ],
   "source": [
    "# n simulations\n",
    "n = 10000\n",
    "\n",
    "# initialize list to capture results\n",
    "results = []\n",
    "\n",
    "for j in range(n):\n",
    "    results.append(boarding_order()[-1])\n",
    "\n",
    "# probability of last passenger getting the assigned seat\n",
    "prob = results.count(t)/n\n",
    "\n",
    "# print statement with probability\n",
    "print(f'The probability of the {t}th passenger getting his assigned seat is {prob}.')"
   ]
  },
  {
   "cell_type": "code",
   "execution_count": null,
   "metadata": {},
   "outputs": [],
   "source": []
  }
 ],
 "metadata": {
  "kernelspec": {
   "display_name": "Python 3",
   "language": "python",
   "name": "python3"
  },
  "language_info": {
   "codemirror_mode": {
    "name": "ipython",
    "version": 3
   },
   "file_extension": ".py",
   "mimetype": "text/x-python",
   "name": "python",
   "nbconvert_exporter": "python",
   "pygments_lexer": "ipython3",
   "version": "3.7.3"
  }
 },
 "nbformat": 4,
 "nbformat_minor": 4
}
