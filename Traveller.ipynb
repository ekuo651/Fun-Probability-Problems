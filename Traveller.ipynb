{
 "cells": [
  {
   "cell_type": "markdown",
   "metadata": {},
   "source": [
    "# Forgetful Traveller\n",
    "\n",
    "[P. Winkler] One hundred people line up to board an airplane. Each has a boarding pass with an assigned seat. However, the first person to board has lost his boarding pass and takes a random seat. After that each person takes the assigned seat if it is unoccupied, or one of the other unoccupied seats at random otherwise. What is the probability that the last person to board gets to sit in his assigned seat?"
   ]
  },
  {
   "cell_type": "code",
   "execution_count": 102,
   "metadata": {},
   "outputs": [],
   "source": [
    "# import shuffle function from random library\n",
    "from random import shuffle"
   ]
  },
  {
   "cell_type": "code",
   "execution_count": 95,
   "metadata": {},
   "outputs": [],
   "source": [
    "# set parameter for number of passengers, t\n",
    "# for this problem, there are 100 passengers\n",
    "t = 100"
   ]
  },
  {
   "cell_type": "code",
   "execution_count": 103,
   "metadata": {},
   "outputs": [],
   "source": [
    "# define a function that returns the order in which seats get filled\n",
    "def boarding_order():\n",
    "    \n",
    "    # generate a list with integers from 1 to t\n",
    "    list_of_seats = [i for i in range(1,t+1)]\n",
    "    \n",
    "    # use shuffle function to randomize the order of the numbers\n",
    "    random.shuffle(list_of_seats)\n",
    "    \n",
    "    # set the first number in the shuffled list as the first seat filled\n",
    "    seat_fill_order = [list_of_seats[0]]\n",
    "    \n",
    "    # remove that number from the list\n",
    "    list_of_seats.remove(seat_fill_order[0])\n",
    "    \n",
    "    # use a for loop to assign the 2nd to 100th seat\n",
    "    for i in range(2,t+1,1):\n",
    "        \n",
    "        # if the ith seat isn't filled, the ith passenger gets that seat\n",
    "        if i not in seat_fill_order:\n",
    "            \n",
    "            # add that seat to the seat fill order\n",
    "            seat_fill_order.append(i)\n",
    "            \n",
    "            # remove that seat from the seat list\n",
    "            list_of_seats.remove(i)\n",
    "           \n",
    "        # if the ith passenger's seat is already taken, assign them to the next random seat on the list\n",
    "        else:\n",
    "            seat_fill_order.append(list_of_seats[0])\n",
    "            \n",
    "            # remove that seat from the seat list\n",
    "            list_of_seats.remove(seat_fill_order[-1])\n",
    "     \n",
    "    # return a list with the seat fill order, 100 in length\n",
    "    return seat_fill_order"
   ]
  },
  {
   "cell_type": "code",
   "execution_count": 104,
   "metadata": {},
   "outputs": [
    {
     "name": "stdout",
     "output_type": "stream",
     "text": [
      "The probability of the 100th passenger getting his assigned seat is 0.491.\n"
     ]
    }
   ],
   "source": [
    "# n simulations\n",
    "n = 5000\n",
    "\n",
    "# initialize list to capture results\n",
    "results = []\n",
    "\n",
    "# use for loop to run boarding_order n times and capture the last seat filled\n",
    "for j in range(n):\n",
    "    results.append(boarding_order()[-1])\n",
    "\n",
    "# probability of last passenger getting the assigned seat, round to 3 decimal places\n",
    "prob = round(results.count(t)/n,3)\n",
    "\n",
    "# print statement with probability\n",
    "print(f'The probability of the {t}th passenger getting his assigned seat is {prob}.')"
   ]
  },
  {
   "cell_type": "code",
   "execution_count": null,
   "metadata": {},
   "outputs": [],
   "source": []
  }
 ],
 "metadata": {
  "kernelspec": {
   "display_name": "Python 3",
   "language": "python",
   "name": "python3"
  },
  "language_info": {
   "codemirror_mode": {
    "name": "ipython",
    "version": 3
   },
   "file_extension": ".py",
   "mimetype": "text/x-python",
   "name": "python",
   "nbconvert_exporter": "python",
   "pygments_lexer": "ipython3",
   "version": "3.7.3"
  }
 },
 "nbformat": 4,
 "nbformat_minor": 4
}
